{
 "cells": [
  {
   "cell_type": "code",
   "execution_count": 2,
   "id": "4b27e133-ef8a-4dd8-93d6-8dfd8f2db594",
   "metadata": {},
   "outputs": [],
   "source": [
    "import numpy as np"
   ]
  },
  {
   "cell_type": "code",
   "execution_count": 3,
   "id": "ff974b30-b67c-4206-8363-c24a3890ba3f",
   "metadata": {},
   "outputs": [
    {
     "data": {
      "text/plain": [
       "array([[1., 0., 0., 0., 0.],\n",
       "       [0., 1., 0., 0., 0.],\n",
       "       [0., 0., 1., 0., 0.],\n",
       "       [0., 0., 0., 1., 0.],\n",
       "       [0., 0., 0., 0., 1.]])"
      ]
     },
     "execution_count": 3,
     "metadata": {},
     "output_type": "execute_result"
    }
   ],
   "source": [
    "A = np.eye(5)\n",
    "A"
   ]
  },
  {
   "cell_type": "code",
   "execution_count": 4,
   "id": "10ad6596-27c3-4da4-ac4a-11f177cea115",
   "metadata": {},
   "outputs": [
    {
     "data": {
      "text/plain": [
       "array([[0.18471184, 0.85378853, 0.97079404, 0.00212277, 0.99013938],\n",
       "       [0.67041262, 0.23624295, 0.0273834 , 0.99999585, 0.02858432],\n",
       "       [0.67232475, 0.20546484, 0.96288227, 0.70143732, 0.08259626],\n",
       "       [0.93725262, 0.49136938, 0.48679691, 0.76829937, 0.03246676],\n",
       "       [0.90601552, 0.52394656, 0.43101757, 0.32128565, 0.71134144]])"
      ]
     },
     "execution_count": 4,
     "metadata": {},
     "output_type": "execute_result"
    }
   ],
   "source": [
    "B = np.random.rand(5,5)\n",
    "A@B"
   ]
  },
  {
   "cell_type": "code",
   "execution_count": 5,
   "id": "ba0e6559-ef60-4438-b7a8-b1b48435f3f7",
   "metadata": {},
   "outputs": [
    {
     "data": {
      "text/plain": [
       "array([ 0.66918438,  0.52906297, -0.31039842,  0.72832089, -0.55968792,\n",
       "        0.59110061, -0.74971617, -0.28508288,  0.57317967, -0.01270507,\n",
       "        0.40956235, -0.52049878,  0.21771006,  1.26442341,  0.83453223,\n",
       "        1.0627281 ])"
      ]
     },
     "execution_count": 5,
     "metadata": {},
     "output_type": "execute_result"
    }
   ],
   "source": [
    "W = np.random.rand(16,16) - 0.5\n",
    "B = np.random.rand(16)\n",
    "\n",
    "W@B"
   ]
  },
  {
   "cell_type": "code",
   "execution_count": null,
   "id": "7a47e6a1-b283-4d1b-b562-46b0e72c3cc0",
   "metadata": {},
   "outputs": [],
   "source": []
  }
 ],
 "metadata": {
  "kernelspec": {
   "display_name": "Python 3 (ipykernel)",
   "language": "python",
   "name": "python3"
  },
  "language_info": {
   "codemirror_mode": {
    "name": "ipython",
    "version": 3
   },
   "file_extension": ".py",
   "mimetype": "text/x-python",
   "name": "python",
   "nbconvert_exporter": "python",
   "pygments_lexer": "ipython3",
   "version": "3.10.8"
  },
  "vscode": {
   "interpreter": {
    "hash": "aee8b7b246df8f9039afb4144a1f6fd8d2ca17a180786b69acc140d282b71a49"
   }
  }
 },
 "nbformat": 4,
 "nbformat_minor": 5
}
