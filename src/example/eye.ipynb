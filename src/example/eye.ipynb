{
 "cells": [
  {
   "cell_type": "code",
   "execution_count": 1,
   "id": "4b27e133-ef8a-4dd8-93d6-8dfd8f2db594",
   "metadata": {},
   "outputs": [],
   "source": [
    "import numpy as np"
   ]
  },
  {
   "cell_type": "code",
   "execution_count": 2,
   "id": "ff974b30-b67c-4206-8363-c24a3890ba3f",
   "metadata": {},
   "outputs": [
    {
     "data": {
      "text/plain": [
       "array([[1., 0., 0., 0., 0.],\n",
       "       [0., 1., 0., 0., 0.],\n",
       "       [0., 0., 1., 0., 0.],\n",
       "       [0., 0., 0., 1., 0.],\n",
       "       [0., 0., 0., 0., 1.]])"
      ]
     },
     "execution_count": 2,
     "metadata": {},
     "output_type": "execute_result"
    }
   ],
   "source": [
    "A = np.eye(5)\n",
    "A"
   ]
  },
  {
   "cell_type": "code",
   "execution_count": 3,
   "id": "10ad6596-27c3-4da4-ac4a-11f177cea115",
   "metadata": {},
   "outputs": [
    {
     "data": {
      "text/plain": [
       "array([[0.68843484, 0.39429731, 0.69750905, 0.30650933, 0.97848754],\n",
       "       [0.74567252, 0.00622264, 0.54780185, 0.07092753, 0.01629033],\n",
       "       [0.15732338, 0.42439726, 0.59124223, 0.63362656, 0.82024649],\n",
       "       [0.77295388, 0.02392252, 0.8572284 , 0.06053779, 0.2370356 ],\n",
       "       [0.2628308 , 0.3312665 , 0.56448394, 0.49124278, 0.51452532]])"
      ]
     },
     "execution_count": 3,
     "metadata": {},
     "output_type": "execute_result"
    }
   ],
   "source": [
    "B = np.random.rand(5,5)\n",
    "A@B"
   ]
  },
  {
   "cell_type": "code",
   "execution_count": null,
   "id": "ba0e6559-ef60-4438-b7a8-b1b48435f3f7",
   "metadata": {},
   "outputs": [],
   "source": []
  }
 ],
 "metadata": {
  "kernelspec": {
   "display_name": "Python 3 (ipykernel)",
   "language": "python",
   "name": "python3"
  },
  "language_info": {
   "codemirror_mode": {
    "name": "ipython",
    "version": 3
   },
   "file_extension": ".py",
   "mimetype": "text/x-python",
   "name": "python",
   "nbconvert_exporter": "python",
   "pygments_lexer": "ipython3",
   "version": "3.10.8"
  },
  "vscode": {
   "interpreter": {
    "hash": "aee8b7b246df8f9039afb4144a1f6fd8d2ca17a180786b69acc140d282b71a49"
   }
  }
 },
 "nbformat": 4,
 "nbformat_minor": 5
}
