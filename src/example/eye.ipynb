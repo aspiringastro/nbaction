{
 "cells": [
  {
   "cell_type": "code",
   "execution_count": null,
   "id": "4b27e133-ef8a-4dd8-93d6-8dfd8f2db594",
   "metadata": {},
   "outputs": [],
   "source": [
    "import numpy as np"
   ]
  },
  {
   "cell_type": "code",
   "execution_count": 2,
   "id": "ff974b30-b67c-4206-8363-c24a3890ba3f",
   "metadata": {},
   "outputs": [
    {
     "data": {
      "text/plain": [
       "array([[1., 0., 0., 0., 0.],\n",
       "       [0., 1., 0., 0., 0.],\n",
       "       [0., 0., 1., 0., 0.],\n",
       "       [0., 0., 0., 1., 0.],\n",
       "       [0., 0., 0., 0., 1.]])"
      ]
     },
     "execution_count": 2,
     "metadata": {},
     "output_type": "execute_result"
    }
   ],
   "source": [
    "A = np.eye(5)\n",
    "A"
   ]
  },
  {
   "cell_type": "code",
   "execution_count": 3,
   "id": "10ad6596-27c3-4da4-ac4a-11f177cea115",
   "metadata": {},
   "outputs": [
    {
     "data": {
      "text/plain": [
       "array([[0.5258566 , 0.27429659, 0.08781869, 0.63523439, 0.26787231],\n",
       "       [0.99223989, 0.83568238, 0.77311085, 0.43030898, 0.37636841],\n",
       "       [0.06114848, 0.13606227, 0.02716369, 0.26280163, 0.65905011],\n",
       "       [0.59601245, 0.26792557, 0.27416666, 0.05862481, 0.77199376],\n",
       "       [0.18553802, 0.69277105, 0.01110707, 0.63056829, 0.36588781]])"
      ]
     },
     "execution_count": 3,
     "metadata": {},
     "output_type": "execute_result"
    }
   ],
   "source": [
    "B = np.random.rand(5,5)\n",
    "A@B"
   ]
  },
  {
   "cell_type": "code",
   "execution_count": null,
   "id": "ba0e6559-ef60-4438-b7a8-b1b48435f3f7",
   "metadata": {},
   "outputs": [],
   "source": []
  }
 ],
 "metadata": {
  "kernelspec": {
   "display_name": "Python 3 (ipykernel)",
   "language": "python",
   "name": "python3"
  },
  "language_info": {
   "codemirror_mode": {
    "name": "ipython",
    "version": 3
   },
   "file_extension": ".py",
   "mimetype": "text/x-python",
   "name": "python",
   "nbconvert_exporter": "python",
   "pygments_lexer": "ipython3",
   "version": "3.10.8"
  },
  "vscode": {
   "interpreter": {
    "hash": "aee8b7b246df8f9039afb4144a1f6fd8d2ca17a180786b69acc140d282b71a49"
   }
  }
 },
 "nbformat": 4,
 "nbformat_minor": 5
}
