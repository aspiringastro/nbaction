{
 "cells": [
  {
   "cell_type": "code",
   "execution_count": 16,
   "id": "c8c63b27-2d4c-4008-b78f-28ced9987a7a",
   "metadata": {},
   "outputs": [],
   "source": [
    "# Test a notebook commit in nbaction\n",
    "\n",
    "import numpy as np\n",
    "import pandas as pd\n",
    "import matplotlib as plt\n"
   ]
  },
  {
   "cell_type": "code",
   "execution_count": 17,
   "id": "ecbdaf27-9218-4459-a0ee-5b4c43179824",
   "metadata": {},
   "outputs": [],
   "source": [
    "!pip install -qq pyvista ipyvtklink\n",
    "\n"
   ]
  },
  {
   "cell_type": "code",
   "execution_count": 18,
   "id": "3c31067b-8332-4a70-b7b4-9ef507c103f9",
   "metadata": {},
   "outputs": [],
   "source": [
    "import pyvista as pv\n",
    "from pyvista import examples"
   ]
  },
  {
   "cell_type": "code",
   "execution_count": 19,
   "id": "8610c03c-553e-4708-ba4c-839f3b799b7e",
   "metadata": {},
   "outputs": [
    {
     "data": {
      "text/plain": [
       "pyvista_ndarray([[4.80997175e+05, 4.40013080e+06, 1.76156006e+03],\n",
       "                 [4.81076775e+05, 4.40018500e+06, 1.75880005e+03],\n",
       "                 [4.80950275e+05, 4.40017820e+06, 1.75981006e+03],\n",
       "                 [4.80969075e+05, 4.40017290e+06, 1.76123999e+03],\n",
       "                 [4.80982075e+05, 4.40019590e+06, 1.77155005e+03]])"
      ]
     },
     "execution_count": 19,
     "metadata": {},
     "output_type": "execute_result"
    }
   ],
   "source": [
    "# Define some helpers - ignore these and use your own data!\n",
    "def generate_points(subset=0.02):\n",
    "    \"\"\"A helper to make a 3D NumPy array of points (n_points by 3)\"\"\"\n",
    "    dataset = examples.download_lidar()\n",
    "    ids = np.random.randint(low=0, high=dataset.n_points - 1, size=int(dataset.n_points * subset))\n",
    "    return dataset.points[ids]\n",
    "\n",
    "\n",
    "points = generate_points()\n",
    "# Print first 5 rows to prove its a numpy array (n_points by 3)\n",
    "# Columns are (X Y Z)\n",
    "points[0:5, :]\n"
   ]
  },
  {
   "cell_type": "code",
   "execution_count": 20,
   "id": "a5a58f6e-c860-41de-9af0-4de707318423",
   "metadata": {},
   "outputs": [
    {
     "data": {
      "text/html": [
       "\n",
       "<table>\n",
       "<tr><th>PolyData</th><th>Information</th></tr>\n",
       "<tr><td>N Cells</td><td>67841</td></tr>\n",
       "<tr><td>N Points</td><td>67841</td></tr>\n",
       "<tr><td>N Strips</td><td>0</td></tr>\n",
       "<tr><td>X Bounds</td><td>4.809e+05, 4.811e+05</td></tr>\n",
       "<tr><td>Y Bounds</td><td>4.400e+06, 4.400e+06</td></tr>\n",
       "<tr><td>Z Bounds</td><td>1.754e+03, 1.787e+03</td></tr>\n",
       "<tr><td>N Arrays</td><td>0</td></tr>\n",
       "</table>\n",
       "\n"
      ],
      "text/plain": [
       "PolyData (0x124511d80)\n",
       "  N Cells:\t67841\n",
       "  N Points:\t67841\n",
       "  N Strips:\t0\n",
       "  X Bounds:\t4.809e+05, 4.811e+05\n",
       "  Y Bounds:\t4.400e+06, 4.400e+06\n",
       "  Z Bounds:\t1.754e+03, 1.787e+03\n",
       "  N Arrays:\t0"
      ]
     },
     "execution_count": 20,
     "metadata": {},
     "output_type": "execute_result"
    }
   ],
   "source": [
    "point_cloud = pv.PolyData(points)\n",
    "point_cloud"
   ]
  },
  {
   "cell_type": "code",
   "execution_count": 21,
   "id": "e56dd4ec-4ca9-454f-9311-e930b8e1133c",
   "metadata": {},
   "outputs": [
    {
     "data": {
      "text/plain": [
       "True"
      ]
     },
     "execution_count": 21,
     "metadata": {},
     "output_type": "execute_result"
    }
   ],
   "source": [
    "np.allclose(points, point_cloud.points)\n"
   ]
  },
  {
   "cell_type": "code",
   "execution_count": 22,
   "id": "023440fe-8899-4328-b7d9-338c4e142981",
   "metadata": {},
   "outputs": [
    {
     "data": {
      "application/vnd.jupyter.widget-view+json": {
       "model_id": "693e63e14fda4b0b90b5bfa6e3a0f62b",
       "version_major": 2,
       "version_minor": 0
      },
      "text/plain": [
       "ViewInteractiveWidget(height=768, layout=Layout(height='auto', width='100%'), width=1024)"
      ]
     },
     "metadata": {},
     "output_type": "display_data"
    }
   ],
   "source": [
    "point_cloud.plot(eye_dome_lighting=True)"
   ]
  },
  {
   "cell_type": "code",
   "execution_count": 23,
   "id": "334c6ed2-1b5c-4ceb-a399-1c26b94429ec",
   "metadata": {},
   "outputs": [],
   "source": [
    "# Make data array using z-component of points array\n",
    "data = points[:, -1]\n",
    "\n",
    "# Add that data to the mesh with the name \"uniform dist\"\n",
    "point_cloud[\"elevation\"] = data"
   ]
  },
  {
   "cell_type": "code",
   "execution_count": 24,
   "id": "d1b57dbe-faf0-4a2c-84be-efe53f3febf5",
   "metadata": {},
   "outputs": [
    {
     "data": {
      "application/vnd.jupyter.widget-view+json": {
       "model_id": "f0f47f222520409eba7bb02bfbf927d5",
       "version_major": 2,
       "version_minor": 0
      },
      "text/plain": [
       "ViewInteractiveWidget(height=768, layout=Layout(height='auto', width='100%'), width=1024)"
      ]
     },
     "metadata": {},
     "output_type": "display_data"
    }
   ],
   "source": [
    "point_cloud.plot(render_points_as_spheres=True)"
   ]
  },
  {
   "cell_type": "code",
   "execution_count": null,
   "id": "dec8cd97-4ba9-42f6-bc5a-1f9e6d2d9000",
   "metadata": {},
   "outputs": [],
   "source": []
  }
 ],
 "metadata": {
  "kernelspec": {
   "display_name": "Python 3 (ipykernel)",
   "language": "python",
   "name": "python3"
  },
  "language_info": {
   "codemirror_mode": {
    "name": "ipython",
    "version": 3
   },
   "file_extension": ".py",
   "mimetype": "text/x-python",
   "name": "python",
   "nbconvert_exporter": "python",
   "pygments_lexer": "ipython3",
   "version": "3.10.8"
  }
 },
 "nbformat": 4,
 "nbformat_minor": 5
}
