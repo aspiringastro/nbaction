{
 "cells": [
  {
   "cell_type": "code",
   "execution_count": null,
   "id": "c8c63b27-2d4c-4008-b78f-28ced9987a7a",
   "metadata": {},
   "outputs": [],
   "source": [
    "# Test a notebook commit in nbaction\n",
    "\n",
    "import numpy as np\n",
    "import pandas as pd\n",
    "import matplotlib as plt\n"
   ]
  },
  {
   "cell_type": "code",
   "execution_count": null,
   "id": "ecbdaf27-9218-4459-a0ee-5b4c43179824",
   "metadata": {},
   "outputs": [],
   "source": [
    "!pip install -qq pyvista ipyvtklink\n",
    "\n"
   ]
  },
  {
   "cell_type": "code",
   "execution_count": null,
   "id": "3c31067b-8332-4a70-b7b4-9ef507c103f9",
   "metadata": {},
   "outputs": [],
   "source": [
    "import pyvista as pv\n",
    "from pyvista import examples"
   ]
  },
  {
   "cell_type": "code",
   "execution_count": null,
   "id": "8610c03c-553e-4708-ba4c-839f3b799b7e",
   "metadata": {},
   "outputs": [],
   "source": [
    "# Define some helpers - ignore these and use your own data!\n",
    "def generate_points(subset=0.02):\n",
    "    \"\"\"A helper to make a 3D NumPy array of points (n_points by 3)\"\"\"\n",
    "    dataset = examples.download_lidar()\n",
    "    ids = np.random.randint(low=0, high=dataset.n_points - 1, size=int(dataset.n_points * subset))\n",
    "    return dataset.points[ids]\n",
    "\n",
    "\n",
    "points = generate_points()\n",
    "# Print first 5 rows to prove its a numpy array (n_points by 3)\n",
    "# Columns are (X Y Z)\n",
    "points[0:5, :]\n"
   ]
  },
  {
   "cell_type": "code",
   "execution_count": null,
   "id": "a5a58f6e-c860-41de-9af0-4de707318423",
   "metadata": {},
   "outputs": [],
   "source": [
    "point_cloud = pv.PolyData(points)\n",
    "point_cloud"
   ]
  },
  {
   "cell_type": "code",
   "execution_count": null,
   "id": "e56dd4ec-4ca9-454f-9311-e930b8e1133c",
   "metadata": {},
   "outputs": [],
   "source": [
    "np.allclose(points, point_cloud.points)\n"
   ]
  },
  {
   "cell_type": "code",
   "execution_count": null,
   "id": "023440fe-8899-4328-b7d9-338c4e142981",
   "metadata": {},
   "outputs": [],
   "source": [
    "point_cloud.plot(eye_dome_lighting=True)"
   ]
  },
  {
   "cell_type": "code",
   "execution_count": null,
   "id": "334c6ed2-1b5c-4ceb-a399-1c26b94429ec",
   "metadata": {},
   "outputs": [],
   "source": [
    "# Make data array using z-component of points array\n",
    "data = points[:, -1]\n",
    "\n",
    "# Add that data to the mesh with the name \"uniform dist\"\n",
    "point_cloud[\"elevation\"] = data"
   ]
  },
  {
   "cell_type": "code",
   "execution_count": null,
   "id": "d1b57dbe-faf0-4a2c-84be-efe53f3febf5",
   "metadata": {},
   "outputs": [],
   "source": [
    "point_cloud.plot(render_points_as_spheres=True)"
   ]
  },
  {
   "cell_type": "code",
   "execution_count": null,
   "id": "dec8cd97-4ba9-42f6-bc5a-1f9e6d2d9000",
   "metadata": {},
   "outputs": [],
   "source": []
  }
 ],
 "metadata": {
  "kernelspec": {
   "display_name": "Python 3 (ipykernel)",
   "language": "python",
   "name": "python3"
  },
  "language_info": {
   "codemirror_mode": {
    "name": "ipython",
    "version": 3
   },
   "file_extension": ".py",
   "mimetype": "text/x-python",
   "name": "python",
   "nbconvert_exporter": "python",
   "pygments_lexer": "ipython3",
   "version": "3.10.8"
  }
 },
 "nbformat": 4,
 "nbformat_minor": 5
}
