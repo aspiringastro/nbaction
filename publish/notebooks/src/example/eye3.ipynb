{
 "cells": [
  {
   "cell_type": "code",
   "execution_count": 1,
   "id": "4b27e133-ef8a-4dd8-93d6-8dfd8f2db594",
   "metadata": {
    "execution": {
     "iopub.execute_input": "2023-01-09T07:31:38.427088Z",
     "iopub.status.busy": "2023-01-09T07:31:38.426337Z",
     "iopub.status.idle": "2023-01-09T07:31:38.498549Z",
     "shell.execute_reply": "2023-01-09T07:31:38.497201Z"
    }
   },
   "outputs": [],
   "source": [
    "import numpy as np"
   ]
  },
  {
   "cell_type": "code",
   "execution_count": 2,
   "id": "ff974b30-b67c-4206-8363-c24a3890ba3f",
   "metadata": {
    "execution": {
     "iopub.execute_input": "2023-01-09T07:31:38.507765Z",
     "iopub.status.busy": "2023-01-09T07:31:38.506070Z",
     "iopub.status.idle": "2023-01-09T07:31:38.516481Z",
     "shell.execute_reply": "2023-01-09T07:31:38.515918Z"
    }
   },
   "outputs": [
    {
     "data": {
      "text/plain": [
       "array([[1., 0., 0., 0., 0.],\n",
       "       [0., 1., 0., 0., 0.],\n",
       "       [0., 0., 1., 0., 0.],\n",
       "       [0., 0., 0., 1., 0.],\n",
       "       [0., 0., 0., 0., 1.]])"
      ]
     },
     "execution_count": 2,
     "metadata": {},
     "output_type": "execute_result"
    }
   ],
   "source": [
    "A = np.eye(5)\n",
    "A"
   ]
  },
  {
   "cell_type": "code",
   "execution_count": 3,
   "id": "10ad6596-27c3-4da4-ac4a-11f177cea115",
   "metadata": {
    "execution": {
     "iopub.execute_input": "2023-01-09T07:31:38.520874Z",
     "iopub.status.busy": "2023-01-09T07:31:38.519730Z",
     "iopub.status.idle": "2023-01-09T07:31:38.526846Z",
     "shell.execute_reply": "2023-01-09T07:31:38.526298Z"
    }
   },
   "outputs": [
    {
     "data": {
      "text/plain": [
       "array([[0.94198411, 0.57480634, 0.76061737, 0.26906557, 0.61304571],\n",
       "       [0.21320407, 0.24039814, 0.87497718, 0.13819018, 0.49472847],\n",
       "       [0.88099934, 0.01650302, 0.12793705, 0.65204277, 0.29786899],\n",
       "       [0.78937603, 0.8917995 , 0.54528565, 0.09624445, 0.5009495 ],\n",
       "       [0.71474162, 0.44963326, 0.95029437, 0.9953691 , 0.77825962]])"
      ]
     },
     "execution_count": 3,
     "metadata": {},
     "output_type": "execute_result"
    }
   ],
   "source": [
    "B = np.random.rand(5,5)\n",
    "A@B"
   ]
  },
  {
   "cell_type": "code",
   "execution_count": 4,
   "id": "ba0e6559-ef60-4438-b7a8-b1b48435f3f7",
   "metadata": {
    "execution": {
     "iopub.execute_input": "2023-01-09T07:31:38.531163Z",
     "iopub.status.busy": "2023-01-09T07:31:38.530023Z",
     "iopub.status.idle": "2023-01-09T07:31:38.537202Z",
     "shell.execute_reply": "2023-01-09T07:31:38.536600Z"
    }
   },
   "outputs": [
    {
     "data": {
      "text/plain": [
       "array([ 1.3891732 , -1.93006152, -0.39129485,  0.52591148, -0.09115689,\n",
       "       -0.67054252,  0.09173577,  0.20187764,  0.8347829 , -0.27032279,\n",
       "        0.90169208,  0.02661907, -1.94118485,  0.10589677,  0.41280273,\n",
       "        0.90827995])"
      ]
     },
     "execution_count": 4,
     "metadata": {},
     "output_type": "execute_result"
    }
   ],
   "source": [
    "W = np.random.rand(16,16) - 0.5\n",
    "B = np.random.rand(16)\n",
    "\n",
    "W@B"
   ]
  },
  {
   "cell_type": "code",
   "execution_count": null,
   "id": "7a47e6a1-b283-4d1b-b562-46b0e72c3cc0",
   "metadata": {},
   "outputs": [],
   "source": []
  }
 ],
 "metadata": {
  "kernelspec": {
   "display_name": "Python 3 (ipykernel)",
   "language": "python",
   "name": "python3"
  },
  "language_info": {
   "codemirror_mode": {
    "name": "ipython",
    "version": 3
   },
   "file_extension": ".py",
   "mimetype": "text/x-python",
   "name": "python",
   "nbconvert_exporter": "python",
   "pygments_lexer": "ipython3",
   "version": "3.10.9"
  },
  "vscode": {
   "interpreter": {
    "hash": "aee8b7b246df8f9039afb4144a1f6fd8d2ca17a180786b69acc140d282b71a49"
   }
  }
 },
 "nbformat": 4,
 "nbformat_minor": 5
}
